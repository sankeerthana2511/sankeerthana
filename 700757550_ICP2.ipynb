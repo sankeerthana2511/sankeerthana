{
  "nbformat": 4,
  "nbformat_minor": 0,
  "metadata": {
    "colab": {
      "provenance": [],
      "authorship_tag": "ABX9TyNr1v9waPv5RwSH/P99jz8L",
      "include_colab_link": true
    },
    "kernelspec": {
      "name": "python3",
      "display_name": "Python 3"
    },
    "language_info": {
      "name": "python"
    }
  },
  "cells": [
    {
      "cell_type": "markdown",
      "metadata": {
        "id": "view-in-github",
        "colab_type": "text"
      },
      "source": [
        "<a href=\"https://colab.research.google.com/github/sankeerthana2511/sankeerthana/blob/main/700757550_ICP2.ipynb\" target=\"_parent\"><img src=\"https://colab.research.google.com/assets/colab-badge.svg\" alt=\"Open In Colab\"/></a>"
      ]
    },
    {
      "cell_type": "markdown",
      "source": [],
      "metadata": {
        "id": "kNomJaSlS3ue"
      }
    },
    {
      "cell_type": "markdown",
      "source": [
        "1.Create a class Employee and then do the following:\n",
        "\n",
        "• Create a data member to count the number of Employees\n",
        "\n",
        "• Create a constructor to initialize name, family, salary, department\n",
        "\n",
        "• Create a function to average salary\n",
        "\n",
        "• Create a Fulltime Employee class and it should inherit the properties of Employee class\n",
        "\n",
        "• Create the instances of Fulltime Employee class and Employee class and call their member functions."
      ],
      "metadata": {
        "id": "Q2aXBhgIS5TE"
      }
    },
    {
      "cell_type": "code",
      "source": [
        "class Employee:\n",
        "    employee_count = 0  # Data member to count the number of Employees\n",
        "\n",
        "    def __init__(self, name, family, salary, department):\n",
        "        self.name = name\n",
        "        self.family = family\n",
        "        self.salary = salary\n",
        "        self.department = department\n",
        "        Employee.employee_count += 1\n",
        "\n",
        "    def average_salary(self, total_salary):\n",
        "        return total_salary / Employee.employee_count\n",
        "\n",
        "class FulltimeEmployee(Employee):\n",
        "    # Inheriting properties from the Employee class\n",
        "    pass\n",
        "\n",
        "# Creating instances of Employee class\n",
        "employee1 = Employee(\"Sai Ram\", \"Uppalapati\", 100000, \"Manager\")\n",
        "employee2 = Employee(\"Rahul\", \"Chalamalasetti\", 150000, \"IT\")\n",
        "\n",
        "# Creating instances of FulltimeEmployee class\n",
        "fulltime_employee1 = FulltimeEmployee(\"Madhavi\", \"Cheerala\", 75000, \"Finance\")\n",
        "fulltime_employee2 = FulltimeEmployee(\"Shivathmika\", \"Vadluri\", 60000, \"Manager\")\n",
        "\n",
        "# Calling member functions\n",
        "total_salary_employees = employee1.salary + employee2.salary\n",
        "average_salary_employees = employee1.average_salary(total_salary_employees)\n",
        "\n",
        "total_salary_fulltime_employees = fulltime_employee1.salary + fulltime_employee2.salary\n",
        "average_salary_fulltime_employees = fulltime_employee1.average_salary(total_salary_fulltime_employees)\n",
        "\n",
        "# Displaying results\n",
        "print(\"Average Salary for Employees:\", average_salary_employees)\n",
        "print(\"Average Salary for Fulltime Employees:\", average_salary_fulltime_employees)"
      ],
      "metadata": {
        "colab": {
          "base_uri": "https://localhost:8080/"
        },
        "id": "L8j4GP5kSJA2",
        "outputId": "1a5567fe-4ecf-4979-b3b7-ac6752707f5a"
      },
      "execution_count": 1,
      "outputs": [
        {
          "output_type": "stream",
          "name": "stdout",
          "text": [
            "Average Salary for Employees: 62500.0\n",
            "Average Salary for Fulltime Employees: 33750.0\n"
          ]
        }
      ]
    },
    {
      "cell_type": "markdown",
      "source": [
        "2.Numpy\n",
        "\n",
        "Using NumPy create random vector of size 20 having only float in the range 1-20.\n",
        "\n",
        "Then reshape the array to 4 by 5\n",
        "\n",
        "Then replace the max in each row by 0 (axis=1)"
      ],
      "metadata": {
        "id": "wJYYD8icTd4c"
      }
    },
    {
      "cell_type": "code",
      "source": [
        "# Import the NumPy library and alias it as 'np' for brevity and convention.\n",
        "import numpy as np\n",
        "\n",
        "# Create a random vector of size 20 with floats in the range 1-20\n",
        "random_vector = np.random.uniform(1, 20, 20)\n",
        "\n",
        "print(\"Original Random Vector:\\n\", random_vector)"
      ],
      "metadata": {
        "colab": {
          "base_uri": "https://localhost:8080/"
        },
        "id": "vHOWaKUhTQPf",
        "outputId": "2ea13a88-9f1f-4f0d-9c71-a22219ae7cd3"
      },
      "execution_count": 2,
      "outputs": [
        {
          "output_type": "stream",
          "name": "stdout",
          "text": [
            "Original Random Vector:\n",
            " [16.93641593 17.36272567  1.59440088 10.64804702 15.54873447  6.6072624\n",
            "  6.72871566 14.14779362 12.78462341 11.35025893 16.69511468 17.35857361\n",
            " 12.44354836  7.26292872 11.71720979 11.2755926   1.33190035 16.42840856\n",
            "  3.42432896  5.13441193]\n"
          ]
        }
      ]
    },
    {
      "cell_type": "markdown",
      "source": [],
      "metadata": {
        "id": "nmc94IDnSb-7"
      }
    },
    {
      "cell_type": "code",
      "source": [
        "# Reshape the array to 4 by 5 (4 rows and 5 columns)\n",
        "reshaped_array = random_vector.reshape(4, 5)\n",
        "\n",
        "print(reshaped_array)"
      ],
      "metadata": {
        "colab": {
          "base_uri": "https://localhost:8080/"
        },
        "id": "xKzNZuhfTm0C",
        "outputId": "3b39052a-32da-4288-ad00-28a3eca35276"
      },
      "execution_count": 3,
      "outputs": [
        {
          "output_type": "stream",
          "name": "stdout",
          "text": [
            "[[16.93641593 17.36272567  1.59440088 10.64804702 15.54873447]\n",
            " [ 6.6072624   6.72871566 14.14779362 12.78462341 11.35025893]\n",
            " [16.69511468 17.35857361 12.44354836  7.26292872 11.71720979]\n",
            " [11.2755926   1.33190035 16.42840856  3.42432896  5.13441193]]\n"
          ]
        }
      ]
    },
    {
      "cell_type": "code",
      "source": [
        "# Replace the max in each row by 0 (axis=1)\n",
        "reshaped_array[np.arange(4), reshaped_array.argmax(axis=1)] = 0\n",
        "\n",
        "print(\"Reshaped Array:\\n\", reshaped_array)"
      ],
      "metadata": {
        "colab": {
          "base_uri": "https://localhost:8080/"
        },
        "id": "nP1ARnstTrNn",
        "outputId": "c271b64b-6335-482b-93a1-3a3d091ff898"
      },
      "execution_count": 4,
      "outputs": [
        {
          "output_type": "stream",
          "name": "stdout",
          "text": [
            "Reshaped Array:\n",
            " [[16.93641593  0.          1.59440088 10.64804702 15.54873447]\n",
            " [ 6.6072624   6.72871566  0.         12.78462341 11.35025893]\n",
            " [16.69511468  0.         12.44354836  7.26292872 11.71720979]\n",
            " [11.2755926   1.33190035  0.          3.42432896  5.13441193]]\n"
          ]
        }
      ]
    }
  ]
}